{
 "cells": [
  {
   "cell_type": "markdown",
   "metadata": {
    "editable": true
   },
   "source": [
    "# OOP Syntax Exercise - Part 2\n",
    "\n",
    "Now that you've had some practice instantiating objects, it's time to write your own class from scratch. This lesson has two parts. In the first part, you'll write a Pants class. This class is similar to the shirt class with a couple of changes. Then you'll practice instantiating Pants objects\n",
    "\n",
    "In the second part, you'll write another class called SalesPerson. You'll also instantiate objects for the SalesPerson.\n",
    "\n",
    "For this exercise, you can do all of your work in this Jupyter notebook. You will not need to import the class because all of your code will be in this Jupyter notebook.\n",
    "\n",
    "Answers are also provided. If you click on the Jupyter icon, you can open a folder called 2.OOP_syntax_pants_practice, which contains this Jupyter notebook ('exercise.ipynb') and a file called answer.py."
   ]
  },
  {
   "cell_type": "markdown",
   "metadata": {
    "editable": true
   },
   "source": [
    "# Pants class\n",
    "\n",
    "Write a Pants class with the following characteristics:\n",
    "* the class name should be Pants\n",
    "* the class attributes should include\n",
    " * color\n",
    " * waist_size\n",
    " * length\n",
    " * price\n",
    "* the class should have an init function that initializes all of the attributes\n",
    "* the class should have two methods\n",
    " * change_price() a method to change the price attribute\n",
    " * discount() to calculate a discount"
   ]
  },
  {
   "cell_type": "code",
   "execution_count": 40,
   "metadata": {
    "editable": true
   },
   "outputs": [],
   "source": [
    "\n",
    "class Pants:\n",
    "    def __init__(self,color,waist_size,length,price):\n",
    "        self.color = color\n",
    "        self.waist_size = waist_size\n",
    "        self.length = length\n",
    "        self.price = price\n",
    "\n",
    "\n",
    "    def change_price(self,new_price):\n",
    "        self.price = new_price\n",
    "\n",
    "\n",
    "\n",
    "    def discount(self,discount):\n",
    "        return self.price * (1-discount)\n",
    "    \n"
   ]
  },
  {
   "cell_type": "code",
   "execution_count": 5,
   "metadata": {
    "editable": true,
    "toggleable": true,
    "ulab": {
     "buttons": {
      "ulab-button-toggle-56b9485e": {
       "style": "primary"
      }
     }
    }
   },
   "outputs": [],
   "source": [
    "class Pants:\n",
    "    \"\"\"The Pants class represents an article of clothing sold in a store\n",
    "    \"\"\"\n",
    "    \n",
    "    def __init__(self, color, waist_size, length, price):\n",
    "        \"\"\"Method for initializing a Pants object\n",
    "    \n",
    "        Args: \n",
    "            color (str)\n",
    "            waist_size (int)\n",
    "            length (int)\n",
    "            price (float)\n",
    "            \n",
    "        Attributes:\n",
    "            color (str): color of a pants object\n",
    "            waist_size (str): waist size of a pants object\n",
    "            length (str): length of a pants object\n",
    "            price (float): price of a pants object\n",
    "        \"\"\"\n",
    "            \n",
    "        self.color = color\n",
    "        self.waist_size = waist_size\n",
    "        self.length = length\n",
    "        self.price = price\n",
    "    \n",
    "    def change_price(self, new_price):\n",
    "        \"\"\"The change_price method changes the price attribute of a pants object\n",
    "    \n",
    "        Args: \n",
    "            new_price (float): the new price of the pants object\n",
    "            \n",
    "        Returns: None\n",
    "        \n",
    "        \"\"\"\n",
    "        self.price = new_price\n",
    "    \n",
    "    def discount(self, percentage):\n",
    "        \"\"\"The discount method outputs a discounted price of a pants object\n",
    "\n",
    "        Args:\n",
    "            percentage (float): a decimal representing the amount to discount\n",
    "\n",
    "        Returns:\n",
    "            float: the discounted price\n",
    "        \"\"\"\n",
    "        return self.price * (1 - percentage)\n"
   ]
  },
  {
   "cell_type": "markdown",
   "metadata": {
    "editable": true
   },
   "source": [
    "# Run the code cell below to check results\n",
    "\n",
    "If you run the next code cell and get an error, then revise your code until the code cell doesn't output anything."
   ]
  },
  {
   "cell_type": "code",
   "execution_count": 10,
   "metadata": {
    "editable": true
   },
   "outputs": [
    {
     "name": "stdout",
     "output_type": "stream",
     "text": [
      "You made it to the end of the check. Nice job!\n"
     ]
    }
   ],
   "source": [
    "def check_results():\n",
    "    pants = Pants('red', 35, 36, 15.12)\n",
    "    assert pants.color == 'red'\n",
    "    assert pants.waist_size == 35\n",
    "    assert pants.length == 36\n",
    "    assert pants.price == 15.12\n",
    "    \n",
    "    pants.change_price(10) == 10\n",
    "    assert pants.price == 10 \n",
    "    \n",
    "    assert pants.discount(.1) == 9\n",
    "    \n",
    "    print('You made it to the end of the check. Nice job!')\n",
    "\n",
    "check_results()"
   ]
  },
  {
   "attachments": {},
   "cell_type": "markdown",
   "metadata": {
    "editable": true
   },
   "source": [
    "# SalesPerson class\n",
    "\n",
    "The Pants class and Shirt class are quite similar. Here is an exercise to give you more practice writing a class. **This exercise is trickier than the previous exercises.**\n",
    "\n",
    "Write a SalesPerson class with the following characteristics:\n",
    "* the class name should be SalesPerson\n",
    "* the class attributes should include\n",
    " * first_name \n",
    " * last_name\n",
    " * employee_id\n",
    " * salary\n",
    " * pants_sold\n",
    " * total_sales\n",
    "* the class should have an init function that initializes all of the attributes\n",
    "* the class should have four methods\n",
    " * sell_pants() a method to change the price attribute\n",
    " * calculate_sales() a method to calculate the sales\n",
    " * display_sales() a method to print out all the pants sold with nice formatting\n",
    " * calculate_commission() a method to calculate the salesperson commission based on total sales and a percentage"
   ]
  },
  {
   "cell_type": "code",
   "execution_count": 36,
   "metadata": {
    "editable": true
   },
   "outputs": [
    {
     "ename": "TypeError",
     "evalue": "'Pants' object is not subscriptable",
     "output_type": "error",
     "traceback": [
      "\u001b[1;31m---------------------------------------------------------------------------\u001b[0m",
      "\u001b[1;31mTypeError\u001b[0m                                 Traceback (most recent call last)",
      "Cell \u001b[1;32mIn[36], line 45\u001b[0m\n\u001b[0;32m     43\u001b[0m salesperson\u001b[39m.\u001b[39msell_pants(pants\u001b[39m=\u001b[39mpants2)\n\u001b[0;32m     44\u001b[0m salesperson\u001b[39m.\u001b[39mpants_sold[\u001b[39m0\u001b[39m]\u001b[39m.\u001b[39mprice\n\u001b[1;32m---> 45\u001b[0m salesperson\u001b[39m.\u001b[39;49mdisplay_sales()\n",
      "Cell \u001b[1;32mIn[36], line 21\u001b[0m, in \u001b[0;36mSalesPerson.display_sales\u001b[1;34m(self)\u001b[0m\n\u001b[0;32m     19\u001b[0m \u001b[39mdef\u001b[39;00m \u001b[39mdisplay_sales\u001b[39m(\u001b[39mself\u001b[39m):\n\u001b[0;32m     20\u001b[0m     \u001b[39mfor\u001b[39;00m pant \u001b[39min\u001b[39;00m \u001b[39mself\u001b[39m\u001b[39m.\u001b[39mpants_sold:\n\u001b[1;32m---> 21\u001b[0m         \u001b[39mprint\u001b[39m(\u001b[39mf\u001b[39m\u001b[39m'\u001b[39m\u001b[39mcolor: \u001b[39m\u001b[39m{\u001b[39;00mpant\u001b[39m.\u001b[39mcolor\u001b[39m}\u001b[39;00m\u001b[39m, waist_size: \u001b[39m\u001b[39m{\u001b[39;00mpant\u001b[39m.\u001b[39mwaist_size\u001b[39m}\u001b[39;00m\u001b[39m, length: \u001b[39m\u001b[39m{\u001b[39;00mpant[\u001b[39m2\u001b[39;49m]\u001b[39m.\u001b[39mlength\u001b[39m}\u001b[39;00m\u001b[39m, price: \u001b[39m\u001b[39m{\u001b[39;00mpant[\u001b[39m3\u001b[39m]\u001b[39m.\u001b[39mprice\u001b[39m}\u001b[39;00m\u001b[39m'\u001b[39m)\n",
      "\u001b[1;31mTypeError\u001b[0m: 'Pants' object is not subscriptable"
     ]
    }
   ],
   "source": [
    "class SalesPerson:\n",
    "\n",
    "    def __init__(self,first_name,last_name,employee_id,salary):\n",
    "        self.first_name = first_name\n",
    "        self.last_name = last_name\n",
    "        self.employee_id = employee_id\n",
    "        self.salary = salary\n",
    "        self.pants_sold = []\n",
    "        self.total_sales = 0\n",
    "\n",
    "\n",
    "#    This method receives a Pants object and appends\n",
    "    def sell_pants(self,pants):\n",
    "        self.pants_sold.append(pants)\n",
    "        # print(self.pants_sold)\n",
    "\n",
    "\n",
    "# TODO: write a display_sales method:\n",
    "    def display_sales(self):\n",
    "        for pant in self.pants_sold:\n",
    "            print(f'color: {pant.color}, waist_size: {pant.waist_size}, length: {pant[2].length}, price: {pant[3].price}')\n",
    "\n",
    "\n",
    "### TODO: write a calculate_sales method:\n",
    "    def calculate_sales(self):\n",
    "        total = 0\n",
    "        for sales in self.pants_sold:\n",
    "            total +=sales.price\n",
    "            return total\n",
    "\n",
    "\n",
    "### TODO: write a calculate_commission method:\n",
    "    def calculate_commission(self,percentage):\n",
    "        sale_total = self.calculate_sales()\n",
    "        return sale_total * percentage\n",
    "        \n",
    "\n",
    "pants1 = Pants(color = 'blue', waist_size = 34, length = 34, price = 10)\n",
    "pants2 = Pants(color = 'red', waist_size = 36, length = 30, price = 14.15)\n",
    "\n",
    "salesperson = SalesPerson('asad','khan',9124,460_000)\n",
    "salesperson.sell_pants(pants=pants1)\n",
    "salesperson.sell_pants(pants=pants2)\n",
    "salesperson.pants_sold[0].price\n",
    "salesperson.display_sales()"
   ]
  },
  {
   "cell_type": "code",
   "execution_count": 38,
   "metadata": {
    "editable": true,
    "toggleable": true,
    "ulab": {
     "buttons": {
      "ulab-button-toggle-d6181fd8": {
       "style": "primary"
      }
     }
    }
   },
   "outputs": [],
   "source": [
    "class SalesPerson:\n",
    "    \"\"\"The SalesPerson class represents an employee in the store\n",
    "\n",
    "    \"\"\"\n",
    "\n",
    "    def __init__(self, first_name, last_name, employee_id, salary):\n",
    "        \"\"\"Method for initializing a SalesPerson object\n",
    "        \n",
    "        Args: \n",
    "            first_name (str)\n",
    "            last_name (str)\n",
    "            employee_id (int)\n",
    "            salary (float)\n",
    "\n",
    "        Attributes:\n",
    "            first_name (str): first name of the employee\n",
    "            last_name (str): last name of the employee\n",
    "            employee_id (int): identification number of the employee\n",
    "            salary (float): yearly salary of the employee\n",
    "            pants_sold (list): a list of pants objects sold by the employee\n",
    "            total_sales (float): sum of all sales made by the employee\n",
    "\n",
    "        \"\"\"\n",
    "        self.first_name = first_name\n",
    "        self.last_name = last_name\n",
    "        self.employee_id = employee_id\n",
    "        self.salary = salary\n",
    "        self.pants_sold = []\n",
    "        self.total_sales = 0\n",
    "\n",
    "    def sell_pants(self, pants_object):\n",
    "        \"\"\"The sell_pants method appends a pants object to the pants_sold attribute\n",
    "\n",
    "        Args: \n",
    "            pants_object (obj): a pants object that was sold\n",
    "\n",
    "        Returns: None\n",
    "\n",
    "        \"\"\"\n",
    "\n",
    "        self.pants_sold.append(pants_object)\n",
    "\n",
    "    def display_sales(self):\n",
    "        \"\"\"The display_sales method prints out all pants that have been sold\n",
    "\n",
    "        Args: None\n",
    "\n",
    "        Returns: None\n",
    "\n",
    "        \"\"\"\n",
    "\n",
    "        for pants in self.pants_sold:\n",
    "            print('color: {}, waist_size: {}, length: {}, price: {}'\\\n",
    "                  .format(pants.color, pants.waist_size, pants.length, pants.price))\n",
    "    \n",
    "    def calculate_sales(self):\n",
    "        \"\"\"The calculate_sales method sums the total price of all pants sold\n",
    "\n",
    "        Args: None\n",
    "\n",
    "        Returns:\n",
    "            float: sum of the price for all pants sold\n",
    "        \n",
    "        \"\"\"\n",
    "\n",
    "        total = 0\n",
    "        for pants in self.pants_sold:\n",
    "            total += pants.price\n",
    "            \n",
    "        self.total_sales = total\n",
    "        \n",
    "        return total\n",
    "    \n",
    "    def calculate_commission(self, percentage):\n",
    "        \"\"\"The calculate_commission method outputs the commission based on sales\n",
    "\n",
    "        Args:\n",
    "            percentage (float): the commission percentage as a decimal\n",
    "\n",
    "        Returns:\n",
    "            float: the commission due\n",
    "        \"\"\"\n",
    "\n",
    "        sales_total = self.calculate_sales()\n",
    "        return sales_total * percentage "
   ]
  },
  {
   "cell_type": "markdown",
   "metadata": {
    "editable": true
   },
   "source": [
    "# Run the code cell below to check results\n",
    "\n",
    "If you run the next code cell and get an error, then revise your code until the code cell doesn't output anything."
   ]
  },
  {
   "cell_type": "code",
   "execution_count": 39,
   "metadata": {
    "editable": true
   },
   "outputs": [
    {
     "name": "stdout",
     "output_type": "stream",
     "text": [
      "Great job, you made it to the end of the code checks!\n"
     ]
    }
   ],
   "source": [
    "def check_results():\n",
    "    pants_one = Pants('red', 35, 36, 15.12)\n",
    "    pants_two = Pants('blue', 40, 38, 24.12)\n",
    "    pants_three = Pants('tan', 28, 30, 8.12)\n",
    "    \n",
    "    salesperson = SalesPerson('Amy', 'Gonzalez', 2581923, 40000)\n",
    "    \n",
    "    assert salesperson.first_name == 'Amy'\n",
    "    assert salesperson.last_name == 'Gonzalez'\n",
    "    assert salesperson.employee_id == 2581923\n",
    "    assert salesperson.salary == 40000\n",
    "    assert salesperson.pants_sold == []\n",
    "    assert salesperson.total_sales == 0\n",
    "    \n",
    "    salesperson.sell_pants(pants_one)\n",
    "    salesperson.pants_sold[0] == pants_one.color\n",
    "    \n",
    "    salesperson.sell_pants(pants_two)\n",
    "    salesperson.sell_pants(pants_three)\n",
    "    \n",
    "    assert len(salesperson.pants_sold) == 3\n",
    "    assert round(salesperson.calculate_sales(),2) == 47.36\n",
    "    assert round(salesperson.calculate_commission(.1),2) == 4.74\n",
    "    \n",
    "    print('Great job, you made it to the end of the code checks!')\n",
    "    \n",
    "check_results()"
   ]
  },
  {
   "cell_type": "markdown",
   "metadata": {
    "editable": true
   },
   "source": [
    "### Check display_sales() method\n",
    "\n",
    "If you run the code cell below, you should get output similar to this:\n",
    "\n",
    "```python\n",
    "color: red, waist_size: 35, length: 36, price: 15.12\n",
    "color: blue, waist_size: 40, length: 38, price: 24.12\n",
    "color: tan, waist_size: 28, length: 30, price: 8.12\n",
    "```"
   ]
  },
  {
   "cell_type": "markdown",
   "metadata": {
    "editable": true
   },
   "source": [
    "pants_one = Pants('red', 35, 36, 15.12)\n",
    "pants_two = Pants('blue', 40, 38, 24.12)\n",
    "pants_three = Pants('tan', 28, 30, 8.12)\n",
    "\n",
    "salesperson = SalesPerson('Amy', 'Gonzalez', 2581923, 40000)\n",
    "\n",
    "salesperson.sell_pants(pants_one)    \n",
    "salesperson.sell_pants(pants_two)\n",
    "salesperson.sell_pants(pants_three)\n",
    "\n",
    "salesperson.display_sales()"
   ]
  }
 ],
 "metadata": {
  "kernelspec": {
   "display_name": "Python 3",
   "language": "python",
   "name": "python3"
  },
  "language_info": {
   "codemirror_mode": {
    "name": "ipython",
    "version": 3
   },
   "file_extension": ".py",
   "mimetype": "text/x-python",
   "name": "python",
   "nbconvert_exporter": "python",
   "pygments_lexer": "ipython3",
   "version": "3.10.4"
  },
  "ulab_nb_type": "guided",
  "vscode": {
   "interpreter": {
    "hash": "afb734500600fd355917ca529030176ea0ca205570884b88f2f6f7d791fd3fbe"
   }
  }
 },
 "nbformat": 4,
 "nbformat_minor": 4
}
